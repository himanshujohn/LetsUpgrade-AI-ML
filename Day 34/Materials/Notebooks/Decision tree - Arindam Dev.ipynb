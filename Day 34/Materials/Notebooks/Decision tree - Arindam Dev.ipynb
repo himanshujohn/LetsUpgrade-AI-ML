{
 "cells": [
  {
   "cell_type": "code",
   "execution_count": 2,
   "metadata": {},
   "outputs": [],
   "source": [
    "# Load libraries\n",
    "import numpy as nm  \n",
    "import matplotlib.pyplot as mtp  \n",
    "import pandas as pd  \n",
    "import os"
   ]
  },
  {
   "cell_type": "code",
   "execution_count": 3,
   "metadata": {},
   "outputs": [],
   "source": [
    "#Loading Data\n",
    "os.chdir('F:\\Lets Upgrade')\n",
    "\n",
    "\n",
    "data_set= pd.read_csv('user_data.csv')  \n"
   ]
  },
  {
   "cell_type": "code",
   "execution_count": 4,
   "metadata": {},
   "outputs": [
    {
     "data": {
      "text/html": [
       "<div>\n",
       "<style scoped>\n",
       "    .dataframe tbody tr th:only-of-type {\n",
       "        vertical-align: middle;\n",
       "    }\n",
       "\n",
       "    .dataframe tbody tr th {\n",
       "        vertical-align: top;\n",
       "    }\n",
       "\n",
       "    .dataframe thead th {\n",
       "        text-align: right;\n",
       "    }\n",
       "</style>\n",
       "<table border=\"1\" class=\"dataframe\">\n",
       "  <thead>\n",
       "    <tr style=\"text-align: right;\">\n",
       "      <th></th>\n",
       "      <th>User ID</th>\n",
       "      <th>Gender</th>\n",
       "      <th>Age</th>\n",
       "      <th>EstimatedSalary</th>\n",
       "      <th>Purchased</th>\n",
       "    </tr>\n",
       "  </thead>\n",
       "  <tbody>\n",
       "    <tr>\n",
       "      <th>0</th>\n",
       "      <td>15624510</td>\n",
       "      <td>Male</td>\n",
       "      <td>19</td>\n",
       "      <td>19000</td>\n",
       "      <td>0</td>\n",
       "    </tr>\n",
       "    <tr>\n",
       "      <th>1</th>\n",
       "      <td>15810944</td>\n",
       "      <td>Male</td>\n",
       "      <td>35</td>\n",
       "      <td>20000</td>\n",
       "      <td>0</td>\n",
       "    </tr>\n",
       "    <tr>\n",
       "      <th>2</th>\n",
       "      <td>15668575</td>\n",
       "      <td>Female</td>\n",
       "      <td>26</td>\n",
       "      <td>43000</td>\n",
       "      <td>0</td>\n",
       "    </tr>\n",
       "    <tr>\n",
       "      <th>3</th>\n",
       "      <td>15603246</td>\n",
       "      <td>Female</td>\n",
       "      <td>27</td>\n",
       "      <td>57000</td>\n",
       "      <td>0</td>\n",
       "    </tr>\n",
       "    <tr>\n",
       "      <th>4</th>\n",
       "      <td>15804002</td>\n",
       "      <td>Male</td>\n",
       "      <td>19</td>\n",
       "      <td>76000</td>\n",
       "      <td>0</td>\n",
       "    </tr>\n",
       "  </tbody>\n",
       "</table>\n",
       "</div>"
      ],
      "text/plain": [
       "    User ID  Gender  Age  EstimatedSalary  Purchased\n",
       "0  15624510    Male   19            19000          0\n",
       "1  15810944    Male   35            20000          0\n",
       "2  15668575  Female   26            43000          0\n",
       "3  15603246  Female   27            57000          0\n",
       "4  15804002    Male   19            76000          0"
      ]
     },
     "execution_count": 4,
     "metadata": {},
     "output_type": "execute_result"
    }
   ],
   "source": [
    "data_set.head()"
   ]
  },
  {
   "cell_type": "code",
   "execution_count": 5,
   "metadata": {},
   "outputs": [],
   "source": [
    "#Extracting Independent and dependent Variable  \n",
    "x= data_set.iloc[:, [2,3]].values  \n",
    "y= data_set.iloc[:, 4].values  "
   ]
  },
  {
   "cell_type": "code",
   "execution_count": 6,
   "metadata": {},
   "outputs": [],
   "source": [
    "from sklearn.model_selection import train_test_split  \n",
    "x_train, x_test, y_train, y_test= train_test_split(x, y, test_size= 0.25, random_state=0)  "
   ]
  },
  {
   "cell_type": "code",
   "execution_count": 7,
   "metadata": {},
   "outputs": [],
   "source": [
    "from sklearn.preprocessing import StandardScaler    \n",
    "st_x= StandardScaler()  \n",
    "x_train= st_x.fit_transform(x_train)    \n",
    "x_test= st_x.transform(x_test)  "
   ]
  },
  {
   "cell_type": "code",
   "execution_count": 8,
   "metadata": {},
   "outputs": [
    {
     "data": {
      "text/plain": [
       "DecisionTreeClassifier(criterion='entropy', random_state=0)"
      ]
     },
     "execution_count": 8,
     "metadata": {},
     "output_type": "execute_result"
    }
   ],
   "source": [
    "    #Fitting Decision Tree classifier to the training set  \n",
    "from sklearn.tree import DecisionTreeClassifier  \n",
    "classifier= DecisionTreeClassifier(criterion='entropy', random_state=0)  \n",
    "classifier.fit(x_train, y_train)  "
   ]
  },
  {
   "cell_type": "code",
   "execution_count": 9,
   "metadata": {},
   "outputs": [],
   "source": [
    "#Predicting the test set result  \n",
    "y_pred= classifier.predict(x_test)"
   ]
  },
  {
   "cell_type": "code",
   "execution_count": 12,
   "metadata": {},
   "outputs": [],
   "source": [
    "#Creating the Confusion matrix  \n",
    "from sklearn.metrics import confusion_matrix  \n",
    "cm= confusion_matrix(y_test, y_pred)"
   ]
  },
  {
   "cell_type": "code",
   "execution_count": 13,
   "metadata": {},
   "outputs": [
    {
     "data": {
      "text/plain": [
       "array([[62,  6],\n",
       "       [ 3, 29]], dtype=int64)"
      ]
     },
     "execution_count": 13,
     "metadata": {},
     "output_type": "execute_result"
    }
   ],
   "source": [
    "cm"
   ]
  },
  {
   "cell_type": "code",
   "execution_count": 21,
   "metadata": {},
   "outputs": [
    {
     "data": {
      "text/plain": [
       "[Text(166.32692307692307, 209.07692307692307, 'X[0] <= 0.631\\nentropy = 0.951\\nsamples = 300\\nvalue = [189, 111]'),\n",
       " Text(87.99230769230769, 192.35076923076923, 'X[1] <= 0.606\\nentropy = 0.693\\nsamples = 215\\nvalue = [175, 40]'),\n",
       " Text(38.63076923076923, 175.62461538461537, 'X[0] <= -0.161\\nentropy = 0.241\\nsamples = 176\\nvalue = [169, 7]'),\n",
       " Text(30.046153846153846, 158.89846153846153, 'entropy = 0.0\\nsamples = 114\\nvalue = [114, 0]'),\n",
       " Text(47.215384615384615, 158.89846153846153, 'X[1] <= -0.06\\nentropy = 0.509\\nsamples = 62\\nvalue = [55, 7]'),\n",
       " Text(38.63076923076923, 142.1723076923077, 'entropy = 0.0\\nsamples = 31\\nvalue = [31, 0]'),\n",
       " Text(55.8, 142.1723076923077, 'X[1] <= 0.403\\nentropy = 0.771\\nsamples = 31\\nvalue = [24, 7]'),\n",
       " Text(47.215384615384615, 125.44615384615385, 'X[1] <= 0.027\\nentropy = 0.663\\nsamples = 29\\nvalue = [24, 5]'),\n",
       " Text(38.63076923076923, 108.72, 'entropy = 0.0\\nsamples = 1\\nvalue = [0, 1]'),\n",
       " Text(55.8, 108.72, 'X[1] <= 0.259\\nentropy = 0.592\\nsamples = 28\\nvalue = [24, 4]'),\n",
       " Text(47.215384615384615, 91.99384615384615, 'X[1] <= 0.085\\nentropy = 0.684\\nsamples = 22\\nvalue = [18, 4]'),\n",
       " Text(17.16923076923077, 75.2676923076923, 'X[0] <= 0.136\\nentropy = 0.391\\nsamples = 13\\nvalue = [12, 1]'),\n",
       " Text(8.584615384615384, 58.541538461538465, 'entropy = 0.0\\nsamples = 6\\nvalue = [6, 0]'),\n",
       " Text(25.753846153846155, 58.541538461538465, 'X[1] <= 0.056\\nentropy = 0.592\\nsamples = 7\\nvalue = [6, 1]'),\n",
       " Text(17.16923076923077, 41.81538461538463, 'X[0] <= 0.235\\nentropy = 1.0\\nsamples = 2\\nvalue = [1, 1]'),\n",
       " Text(8.584615384615384, 25.089230769230767, 'entropy = 0.0\\nsamples = 1\\nvalue = [0, 1]'),\n",
       " Text(25.753846153846155, 25.089230769230767, 'entropy = 0.0\\nsamples = 1\\nvalue = [1, 0]'),\n",
       " Text(34.33846153846154, 41.81538461538463, 'entropy = 0.0\\nsamples = 5\\nvalue = [5, 0]'),\n",
       " Text(77.26153846153846, 75.2676923076923, 'X[1] <= 0.114\\nentropy = 0.918\\nsamples = 9\\nvalue = [6, 3]'),\n",
       " Text(60.09230769230769, 58.541538461538465, 'X[0] <= 0.235\\nentropy = 1.0\\nsamples = 2\\nvalue = [1, 1]'),\n",
       " Text(51.50769230769231, 41.81538461538463, 'entropy = 0.0\\nsamples = 1\\nvalue = [1, 0]'),\n",
       " Text(68.67692307692307, 41.81538461538463, 'entropy = 0.0\\nsamples = 1\\nvalue = [0, 1]'),\n",
       " Text(94.43076923076923, 58.541538461538465, 'X[0] <= 0.136\\nentropy = 0.863\\nsamples = 7\\nvalue = [5, 2]'),\n",
       " Text(85.84615384615384, 41.81538461538463, 'X[0] <= -0.013\\nentropy = 1.0\\nsamples = 4\\nvalue = [2, 2]'),\n",
       " Text(77.26153846153846, 25.089230769230767, 'X[1] <= 0.201\\nentropy = 0.918\\nsamples = 3\\nvalue = [2, 1]'),\n",
       " Text(68.67692307692307, 8.363076923076932, 'entropy = 0.0\\nsamples = 2\\nvalue = [2, 0]'),\n",
       " Text(85.84615384615384, 8.363076923076932, 'entropy = 0.0\\nsamples = 1\\nvalue = [0, 1]'),\n",
       " Text(94.43076923076923, 25.089230769230767, 'entropy = 0.0\\nsamples = 1\\nvalue = [0, 1]'),\n",
       " Text(103.01538461538462, 41.81538461538463, 'entropy = 0.0\\nsamples = 3\\nvalue = [3, 0]'),\n",
       " Text(64.38461538461539, 91.99384615384615, 'entropy = 0.0\\nsamples = 6\\nvalue = [6, 0]'),\n",
       " Text(64.38461538461539, 125.44615384615385, 'entropy = 0.0\\nsamples = 2\\nvalue = [0, 2]'),\n",
       " Text(137.35384615384615, 175.62461538461537, 'X[1] <= 1.853\\nentropy = 0.619\\nsamples = 39\\nvalue = [6, 33]'),\n",
       " Text(128.76923076923077, 158.89846153846153, 'X[1] <= 1.099\\nentropy = 0.779\\nsamples = 26\\nvalue = [6, 20]'),\n",
       " Text(120.18461538461538, 142.1723076923077, 'entropy = 0.0\\nsamples = 8\\nvalue = [0, 8]'),\n",
       " Text(137.35384615384615, 142.1723076923077, 'X[1] <= 1.36\\nentropy = 0.918\\nsamples = 18\\nvalue = [6, 12]'),\n",
       " Text(111.6, 125.44615384615385, 'X[0] <= -0.458\\nentropy = 0.985\\nsamples = 7\\nvalue = [4, 3]'),\n",
       " Text(103.01538461538462, 108.72, 'entropy = 0.0\\nsamples = 2\\nvalue = [2, 0]'),\n",
       " Text(120.18461538461538, 108.72, 'X[1] <= 1.244\\nentropy = 0.971\\nsamples = 5\\nvalue = [2, 3]'),\n",
       " Text(111.6, 91.99384615384615, 'X[0] <= -0.359\\nentropy = 1.0\\nsamples = 4\\nvalue = [2, 2]'),\n",
       " Text(103.01538461538462, 75.2676923076923, 'entropy = 0.0\\nsamples = 1\\nvalue = [0, 1]'),\n",
       " Text(120.18461538461538, 75.2676923076923, 'X[0] <= 0.186\\nentropy = 0.918\\nsamples = 3\\nvalue = [2, 1]'),\n",
       " Text(111.6, 58.541538461538465, 'entropy = 0.0\\nsamples = 2\\nvalue = [2, 0]'),\n",
       " Text(128.76923076923077, 58.541538461538465, 'entropy = 0.0\\nsamples = 1\\nvalue = [0, 1]'),\n",
       " Text(128.76923076923077, 91.99384615384615, 'entropy = 0.0\\nsamples = 1\\nvalue = [0, 1]'),\n",
       " Text(163.1076923076923, 125.44615384615385, 'X[1] <= 1.781\\nentropy = 0.684\\nsamples = 11\\nvalue = [2, 9]'),\n",
       " Text(154.52307692307693, 108.72, 'X[0] <= -1.102\\nentropy = 0.469\\nsamples = 10\\nvalue = [1, 9]'),\n",
       " Text(145.93846153846152, 91.99384615384615, 'entropy = 0.0\\nsamples = 1\\nvalue = [1, 0]'),\n",
       " Text(163.1076923076923, 91.99384615384615, 'entropy = 0.0\\nsamples = 9\\nvalue = [0, 9]'),\n",
       " Text(171.69230769230768, 108.72, 'entropy = 0.0\\nsamples = 1\\nvalue = [1, 0]'),\n",
       " Text(145.93846153846152, 158.89846153846153, 'entropy = 0.0\\nsamples = 13\\nvalue = [0, 13]'),\n",
       " Text(244.66153846153844, 192.35076923076923, 'X[1] <= -0.814\\nentropy = 0.645\\nsamples = 85\\nvalue = [14, 71]'),\n",
       " Text(206.03076923076924, 175.62461538461537, 'X[1] <= -1.365\\nentropy = 0.211\\nsamples = 30\\nvalue = [1, 29]'),\n",
       " Text(197.44615384615383, 158.89846153846153, 'X[0] <= 0.829\\nentropy = 0.722\\nsamples = 5\\nvalue = [1, 4]'),\n",
       " Text(188.86153846153846, 142.1723076923077, 'X[0] <= 0.73\\nentropy = 1.0\\nsamples = 2\\nvalue = [1, 1]'),\n",
       " Text(180.27692307692308, 125.44615384615385, 'entropy = 0.0\\nsamples = 1\\nvalue = [0, 1]'),\n",
       " Text(197.44615384615383, 125.44615384615385, 'entropy = 0.0\\nsamples = 1\\nvalue = [1, 0]'),\n",
       " Text(206.03076923076924, 142.1723076923077, 'entropy = 0.0\\nsamples = 3\\nvalue = [0, 3]'),\n",
       " Text(214.6153846153846, 158.89846153846153, 'entropy = 0.0\\nsamples = 25\\nvalue = [0, 25]'),\n",
       " Text(283.2923076923077, 175.62461538461537, 'X[0] <= 1.423\\nentropy = 0.789\\nsamples = 55\\nvalue = [13, 42]'),\n",
       " Text(248.95384615384614, 158.89846153846153, 'X[1] <= 0.447\\nentropy = 0.946\\nsamples = 33\\nvalue = [12, 21]'),\n",
       " Text(223.2, 142.1723076923077, 'X[0] <= 1.027\\nentropy = 0.985\\nsamples = 14\\nvalue = [8, 6]'),\n",
       " Text(214.6153846153846, 125.44615384615385, 'X[0] <= 0.829\\nentropy = 0.994\\nsamples = 11\\nvalue = [5, 6]'),\n",
       " Text(197.44615384615383, 108.72, 'X[1] <= -0.51\\nentropy = 0.918\\nsamples = 6\\nvalue = [4, 2]'),\n",
       " Text(188.86153846153846, 91.99384615384615, 'entropy = 0.0\\nsamples = 1\\nvalue = [0, 1]'),\n",
       " Text(206.03076923076924, 91.99384615384615, 'X[1] <= 0.201\\nentropy = 0.722\\nsamples = 5\\nvalue = [4, 1]'),\n",
       " Text(197.44615384615383, 75.2676923076923, 'entropy = 0.0\\nsamples = 2\\nvalue = [2, 0]'),\n",
       " Text(214.6153846153846, 75.2676923076923, 'X[0] <= 0.73\\nentropy = 0.918\\nsamples = 3\\nvalue = [2, 1]'),\n",
       " Text(206.03076923076924, 58.541538461538465, 'entropy = 0.0\\nsamples = 1\\nvalue = [1, 0]'),\n",
       " Text(223.2, 58.541538461538465, 'X[1] <= 0.317\\nentropy = 1.0\\nsamples = 2\\nvalue = [1, 1]'),\n",
       " Text(214.6153846153846, 41.81538461538463, 'entropy = 0.0\\nsamples = 1\\nvalue = [0, 1]'),\n",
       " Text(231.78461538461536, 41.81538461538463, 'entropy = 0.0\\nsamples = 1\\nvalue = [1, 0]'),\n",
       " Text(231.78461538461536, 108.72, 'X[1] <= -0.626\\nentropy = 0.722\\nsamples = 5\\nvalue = [1, 4]'),\n",
       " Text(223.2, 91.99384615384615, 'entropy = 0.0\\nsamples = 1\\nvalue = [1, 0]'),\n",
       " Text(240.36923076923077, 91.99384615384615, 'entropy = 0.0\\nsamples = 4\\nvalue = [0, 4]'),\n",
       " Text(231.78461538461536, 125.44615384615385, 'entropy = 0.0\\nsamples = 3\\nvalue = [3, 0]'),\n",
       " Text(274.7076923076923, 142.1723076923077, 'X[1] <= 0.664\\nentropy = 0.742\\nsamples = 19\\nvalue = [4, 15]'),\n",
       " Text(266.1230769230769, 125.44615384615385, 'entropy = 0.0\\nsamples = 4\\nvalue = [0, 4]'),\n",
       " Text(283.2923076923077, 125.44615384615385, 'X[1] <= 1.331\\nentropy = 0.837\\nsamples = 15\\nvalue = [4, 11]'),\n",
       " Text(266.1230769230769, 108.72, 'X[0] <= 0.829\\nentropy = 1.0\\nsamples = 4\\nvalue = [2, 2]'),\n",
       " Text(257.53846153846155, 91.99384615384615, 'entropy = 0.0\\nsamples = 1\\nvalue = [1, 0]'),\n",
       " Text(274.7076923076923, 91.99384615384615, 'X[0] <= 1.176\\nentropy = 0.918\\nsamples = 3\\nvalue = [1, 2]'),\n",
       " Text(266.1230769230769, 75.2676923076923, 'entropy = 0.0\\nsamples = 2\\nvalue = [0, 2]'),\n",
       " Text(283.2923076923077, 75.2676923076923, 'entropy = 0.0\\nsamples = 1\\nvalue = [1, 0]'),\n",
       " Text(300.46153846153845, 108.72, 'X[1] <= 1.824\\nentropy = 0.684\\nsamples = 11\\nvalue = [2, 9]'),\n",
       " Text(291.87692307692305, 91.99384615384615, 'entropy = 0.0\\nsamples = 4\\nvalue = [0, 4]'),\n",
       " Text(309.04615384615386, 91.99384615384615, 'X[1] <= 2.143\\nentropy = 0.863\\nsamples = 7\\nvalue = [2, 5]'),\n",
       " Text(300.46153846153845, 75.2676923076923, 'X[1] <= 2.027\\nentropy = 0.971\\nsamples = 5\\nvalue = [2, 3]'),\n",
       " Text(291.87692307692305, 58.541538461538465, 'X[1] <= 1.926\\nentropy = 0.811\\nsamples = 4\\nvalue = [1, 3]'),\n",
       " Text(283.2923076923077, 41.81538461538463, 'X[0] <= 1.126\\nentropy = 1.0\\nsamples = 2\\nvalue = [1, 1]'),\n",
       " Text(274.7076923076923, 25.089230769230767, 'entropy = 0.0\\nsamples = 1\\nvalue = [0, 1]'),\n",
       " Text(291.87692307692305, 25.089230769230767, 'entropy = 0.0\\nsamples = 1\\nvalue = [1, 0]'),\n",
       " Text(300.46153846153845, 41.81538461538463, 'entropy = 0.0\\nsamples = 2\\nvalue = [0, 2]'),\n",
       " Text(309.04615384615386, 58.541538461538465, 'entropy = 0.0\\nsamples = 1\\nvalue = [1, 0]'),\n",
       " Text(317.6307692307692, 75.2676923076923, 'entropy = 0.0\\nsamples = 2\\nvalue = [0, 2]'),\n",
       " Text(317.6307692307692, 158.89846153846153, 'X[1] <= -0.742\\nentropy = 0.267\\nsamples = 22\\nvalue = [1, 21]'),\n",
       " Text(309.04615384615386, 142.1723076923077, 'X[0] <= 2.117\\nentropy = 1.0\\nsamples = 2\\nvalue = [1, 1]'),\n",
       " Text(300.46153846153845, 125.44615384615385, 'entropy = 0.0\\nsamples = 1\\nvalue = [1, 0]'),\n",
       " Text(317.6307692307692, 125.44615384615385, 'entropy = 0.0\\nsamples = 1\\nvalue = [0, 1]'),\n",
       " Text(326.2153846153846, 142.1723076923077, 'entropy = 0.0\\nsamples = 20\\nvalue = [0, 20]')]"
      ]
     },
     "execution_count": 21,
     "metadata": {},
     "output_type": "execute_result"
    },
    {
     "data": {
      "image/png": "[encoded data removed]",
      "text/plain": [
       "<Figure size 432x288 with 1 Axes>"
      ]
     },
     "metadata": {
      "needs_background": "light"
     },
     "output_type": "display_data"
    }
   ],
   "source": [
    "tree.plot_tree(classifier)\n",
    "                   \n"
   ]
  },
  {
   "cell_type": "code",
   "execution_count": 22,
   "metadata": {},
   "outputs": [
    {
     "name": "stdout",
     "output_type": "stream",
     "text": [
      "|--- feature_0 <= 0.63\n",
      "|   |--- feature_1 <= 0.61\n",
      "|   |   |--- feature_0 <= -0.16\n",
      "|   |   |   |--- class: 0\n",
      "|   |   |--- feature_0 >  -0.16\n",
      "|   |   |   |--- feature_1 <= -0.06\n",
      "|   |   |   |   |--- class: 0\n",
      "|   |   |   |--- feature_1 >  -0.06\n",
      "|   |   |   |   |--- feature_1 <= 0.40\n",
      "|   |   |   |   |   |--- feature_1 <= 0.03\n",
      "|   |   |   |   |   |   |--- class: 1\n",
      "|   |   |   |   |   |--- feature_1 >  0.03\n",
      "|   |   |   |   |   |   |--- feature_1 <= 0.26\n",
      "|   |   |   |   |   |   |   |--- feature_1 <= 0.08\n",
      "|   |   |   |   |   |   |   |   |--- feature_0 <= 0.14\n",
      "|   |   |   |   |   |   |   |   |   |--- class: 0\n",
      "|   |   |   |   |   |   |   |   |--- feature_0 >  0.14\n",
      "|   |   |   |   |   |   |   |   |   |--- feature_1 <= 0.06\n",
      "|   |   |   |   |   |   |   |   |   |   |--- feature_0 <= 0.24\n",
      "|   |   |   |   |   |   |   |   |   |   |   |--- class: 1\n",
      "|   |   |   |   |   |   |   |   |   |   |--- feature_0 >  0.24\n",
      "|   |   |   |   |   |   |   |   |   |   |   |--- class: 0\n",
      "|   |   |   |   |   |   |   |   |   |--- feature_1 >  0.06\n",
      "|   |   |   |   |   |   |   |   |   |   |--- class: 0\n",
      "|   |   |   |   |   |   |   |--- feature_1 >  0.08\n",
      "|   |   |   |   |   |   |   |   |--- feature_1 <= 0.11\n",
      "|   |   |   |   |   |   |   |   |   |--- feature_0 <= 0.24\n",
      "|   |   |   |   |   |   |   |   |   |   |--- class: 0\n",
      "|   |   |   |   |   |   |   |   |   |--- feature_0 >  0.24\n",
      "|   |   |   |   |   |   |   |   |   |   |--- class: 1\n",
      "|   |   |   |   |   |   |   |   |--- feature_1 >  0.11\n",
      "|   |   |   |   |   |   |   |   |   |--- feature_0 <= 0.14\n",
      "|   |   |   |   |   |   |   |   |   |   |--- feature_0 <= -0.01\n",
      "|   |   |   |   |   |   |   |   |   |   |   |--- truncated branch of depth 2\n",
      "|   |   |   |   |   |   |   |   |   |   |--- feature_0 >  -0.01\n",
      "|   |   |   |   |   |   |   |   |   |   |   |--- class: 1\n",
      "|   |   |   |   |   |   |   |   |   |--- feature_0 >  0.14\n",
      "|   |   |   |   |   |   |   |   |   |   |--- class: 0\n",
      "|   |   |   |   |   |   |--- feature_1 >  0.26\n",
      "|   |   |   |   |   |   |   |--- class: 0\n",
      "|   |   |   |   |--- feature_1 >  0.40\n",
      "|   |   |   |   |   |--- class: 1\n",
      "|   |--- feature_1 >  0.61\n",
      "|   |   |--- feature_1 <= 1.85\n",
      "|   |   |   |--- feature_1 <= 1.10\n",
      "|   |   |   |   |--- class: 1\n",
      "|   |   |   |--- feature_1 >  1.10\n",
      "|   |   |   |   |--- feature_1 <= 1.36\n",
      "|   |   |   |   |   |--- feature_0 <= -0.46\n",
      "|   |   |   |   |   |   |--- class: 0\n",
      "|   |   |   |   |   |--- feature_0 >  -0.46\n",
      "|   |   |   |   |   |   |--- feature_1 <= 1.24\n",
      "|   |   |   |   |   |   |   |--- feature_0 <= -0.36\n",
      "|   |   |   |   |   |   |   |   |--- class: 1\n",
      "|   |   |   |   |   |   |   |--- feature_0 >  -0.36\n",
      "|   |   |   |   |   |   |   |   |--- feature_0 <= 0.19\n",
      "|   |   |   |   |   |   |   |   |   |--- class: 0\n",
      "|   |   |   |   |   |   |   |   |--- feature_0 >  0.19\n",
      "|   |   |   |   |   |   |   |   |   |--- class: 1\n",
      "|   |   |   |   |   |   |--- feature_1 >  1.24\n",
      "|   |   |   |   |   |   |   |--- class: 1\n",
      "|   |   |   |   |--- feature_1 >  1.36\n",
      "|   |   |   |   |   |--- feature_1 <= 1.78\n",
      "|   |   |   |   |   |   |--- feature_0 <= -1.10\n",
      "|   |   |   |   |   |   |   |--- class: 0\n",
      "|   |   |   |   |   |   |--- feature_0 >  -1.10\n",
      "|   |   |   |   |   |   |   |--- class: 1\n",
      "|   |   |   |   |   |--- feature_1 >  1.78\n",
      "|   |   |   |   |   |   |--- class: 0\n",
      "|   |   |--- feature_1 >  1.85\n",
      "|   |   |   |--- class: 1\n",
      "|--- feature_0 >  0.63\n",
      "|   |--- feature_1 <= -0.81\n",
      "|   |   |--- feature_1 <= -1.37\n",
      "|   |   |   |--- feature_0 <= 0.83\n",
      "|   |   |   |   |--- feature_0 <= 0.73\n",
      "|   |   |   |   |   |--- class: 1\n",
      "|   |   |   |   |--- feature_0 >  0.73\n",
      "|   |   |   |   |   |--- class: 0\n",
      "|   |   |   |--- feature_0 >  0.83\n",
      "|   |   |   |   |--- class: 1\n",
      "|   |   |--- feature_1 >  -1.37\n",
      "|   |   |   |--- class: 1\n",
      "|   |--- feature_1 >  -0.81\n",
      "|   |   |--- feature_0 <= 1.42\n",
      "|   |   |   |--- feature_1 <= 0.45\n",
      "|   |   |   |   |--- feature_0 <= 1.03\n",
      "|   |   |   |   |   |--- feature_0 <= 0.83\n",
      "|   |   |   |   |   |   |--- feature_1 <= -0.51\n",
      "|   |   |   |   |   |   |   |--- class: 1\n",
      "|   |   |   |   |   |   |--- feature_1 >  -0.51\n",
      "|   |   |   |   |   |   |   |--- feature_1 <= 0.20\n",
      "|   |   |   |   |   |   |   |   |--- class: 0\n",
      "|   |   |   |   |   |   |   |--- feature_1 >  0.20\n",
      "|   |   |   |   |   |   |   |   |--- feature_0 <= 0.73\n",
      "|   |   |   |   |   |   |   |   |   |--- class: 0\n",
      "|   |   |   |   |   |   |   |   |--- feature_0 >  0.73\n",
      "|   |   |   |   |   |   |   |   |   |--- feature_1 <= 0.32\n",
      "|   |   |   |   |   |   |   |   |   |   |--- class: 1\n",
      "|   |   |   |   |   |   |   |   |   |--- feature_1 >  0.32\n",
      "|   |   |   |   |   |   |   |   |   |   |--- class: 0\n",
      "|   |   |   |   |   |--- feature_0 >  0.83\n",
      "|   |   |   |   |   |   |--- feature_1 <= -0.63\n",
      "|   |   |   |   |   |   |   |--- class: 0\n",
      "|   |   |   |   |   |   |--- feature_1 >  -0.63\n",
      "|   |   |   |   |   |   |   |--- class: 1\n",
      "|   |   |   |   |--- feature_0 >  1.03\n",
      "|   |   |   |   |   |--- class: 0\n",
      "|   |   |   |--- feature_1 >  0.45\n",
      "|   |   |   |   |--- feature_1 <= 0.66\n",
      "|   |   |   |   |   |--- class: 1\n",
      "|   |   |   |   |--- feature_1 >  0.66\n",
      "|   |   |   |   |   |--- feature_1 <= 1.33\n",
      "|   |   |   |   |   |   |--- feature_0 <= 0.83\n",
      "|   |   |   |   |   |   |   |--- class: 0\n",
      "|   |   |   |   |   |   |--- feature_0 >  0.83\n",
      "|   |   |   |   |   |   |   |--- feature_0 <= 1.18\n",
      "|   |   |   |   |   |   |   |   |--- class: 1\n",
      "|   |   |   |   |   |   |   |--- feature_0 >  1.18\n",
      "|   |   |   |   |   |   |   |   |--- class: 0\n",
      "|   |   |   |   |   |--- feature_1 >  1.33\n",
      "|   |   |   |   |   |   |--- feature_1 <= 1.82\n",
      "|   |   |   |   |   |   |   |--- class: 1\n",
      "|   |   |   |   |   |   |--- feature_1 >  1.82\n",
      "|   |   |   |   |   |   |   |--- feature_1 <= 2.14\n",
      "|   |   |   |   |   |   |   |   |--- feature_1 <= 2.03\n",
      "|   |   |   |   |   |   |   |   |   |--- feature_1 <= 1.93\n",
      "|   |   |   |   |   |   |   |   |   |   |--- feature_0 <= 1.13\n",
      "|   |   |   |   |   |   |   |   |   |   |   |--- class: 1\n",
      "|   |   |   |   |   |   |   |   |   |   |--- feature_0 >  1.13\n",
      "|   |   |   |   |   |   |   |   |   |   |   |--- class: 0\n",
      "|   |   |   |   |   |   |   |   |   |--- feature_1 >  1.93\n",
      "|   |   |   |   |   |   |   |   |   |   |--- class: 1\n",
      "|   |   |   |   |   |   |   |   |--- feature_1 >  2.03\n",
      "|   |   |   |   |   |   |   |   |   |--- class: 0\n",
      "|   |   |   |   |   |   |   |--- feature_1 >  2.14\n",
      "|   |   |   |   |   |   |   |   |--- class: 1\n",
      "|   |   |--- feature_0 >  1.42\n",
      "|   |   |   |--- feature_1 <= -0.74\n",
      "|   |   |   |   |--- feature_0 <= 2.12\n",
      "|   |   |   |   |   |--- class: 0\n",
      "|   |   |   |   |--- feature_0 >  2.12\n",
      "|   |   |   |   |   |--- class: 1\n",
      "|   |   |   |--- feature_1 >  -0.74\n",
      "|   |   |   |   |--- class: 1\n",
      "\n"
     ]
    }
   ],
   "source": [
    "text_representation = tree.export_text(classifier)\n",
    "print(text_representation)\n"
   ]
  },
  {
   "cell_type": "code",
   "execution_count": null,
   "metadata": {},
   "outputs": [],
   "source": []
  }
 ],
 "metadata": {
  "kernelspec": {
   "display_name": "Python 3",
   "language": "python",
   "name": "python3"
  },
  "language_info": {
   "codemirror_mode": {
    "name": "ipython",
    "version": 3
   },
   "file_extension": ".py",
   "mimetype": "text/x-python",
   "name": "python",
   "nbconvert_exporter": "python",
   "pygments_lexer": "ipython3",
   "version": "3.8.3"
  }
 },
 "nbformat": 4,
 "nbformat_minor": 4
}
