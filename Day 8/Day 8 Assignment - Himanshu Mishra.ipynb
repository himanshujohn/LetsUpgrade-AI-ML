{
 "cells": [
  {
   "cell_type": "markdown",
   "metadata": {},
   "source": [
    "Question 1: \n",
    " \n",
    "Recreate “NB 21 map, filter, lambda.ipynb” to try different variations or perform different calculations from the ones that are in the NB "
   ]
  },
  {
   "cell_type": "code",
   "execution_count": 2,
   "metadata": {},
   "outputs": [
    {
     "name": "stdout",
     "output_type": "stream",
     "text": [
      "25\n"
     ]
    }
   ],
   "source": [
    "# map(function, iterables)\n",
    "def sqr(a):\n",
    "    return a*a\n",
    "x= sqr(5)\n",
    "print(x)"
   ]
  },
  {
   "cell_type": "code",
   "execution_count": 3,
   "metadata": {},
   "outputs": [
    {
     "name": "stdout",
     "output_type": "stream",
     "text": [
      "<map object at 0x0000021704A27248>\n",
      "<class 'map'>\n",
      "[1, 4, 9, 16, 25]\n"
     ]
    }
   ],
   "source": [
    "# map(function, iterables)\n",
    "def sqr(a):\n",
    "    return a*a\n",
    "# your code goes here2\n",
    "x = map(sqr,[1,2,3,4,5])\n",
    "print(x)\n",
    "print(type(x))\n",
    "print(list(x))\n",
    "# print(tuple(x))\n",
    "# print(set(x))"
   ]
  },
  {
   "cell_type": "code",
   "execution_count": 4,
   "metadata": {},
   "outputs": [
    {
     "name": "stdout",
     "output_type": "stream",
     "text": [
      "[2, 4, 6, 8]\n"
     ]
    }
   ],
   "source": [
    "# map(function, iterables)\n",
    "def sqr(a,b):\n",
    "    return a*b\n",
    "# your code goes here3\n",
    "x = map(sqr, [1,2,3,4], [2,2,2,2] )\n",
    "print(list(x))"
   ]
  },
  {
   "cell_type": "code",
   "execution_count": 8,
   "metadata": {},
   "outputs": [
    {
     "name": "stdout",
     "output_type": "stream",
     "text": [
      "<class 'map'>\n",
      "<map object at 0x0000021704A37708>\n",
      "[1, 4, 9, 16]\n"
     ]
    }
   ],
   "source": [
    "def sqrt(a,b):\n",
    "    return a*b\n",
    "\n",
    "x = map(sqrt,[1,2,3,4],[1,2,3,4])\n",
    "print(type(x))\n",
    "print(x)\n",
    "print(list(x))"
   ]
  },
  {
   "cell_type": "code",
   "execution_count": 7,
   "metadata": {},
   "outputs": [
    {
     "name": "stdout",
     "output_type": "stream",
     "text": [
      "<class 'map'>\n",
      "<map object at 0x0000021704A33E88>\n",
      "[3, 4, 5, 6]\n"
     ]
    }
   ],
   "source": [
    "def sqrt(b):\n",
    "    return b+2\n",
    "\n",
    "x = map(sqrt,[1,2,3,4])\n",
    "print(type(x))\n",
    "print(x)\n",
    "print(list(x))"
   ]
  },
  {
   "cell_type": "code",
   "execution_count": 5,
   "metadata": {},
   "outputs": [
    {
     "name": "stdout",
     "output_type": "stream",
     "text": [
      "[2, 4, 6, 8]\n"
     ]
    }
   ],
   "source": [
    "# map(function, iterables)\n",
    "def sqr(a,b):\n",
    "    return a*b\n",
    "# your code goes here3\n",
    "print(list(map(sqr, [1,2,3,4], [2,2,2,2] )))"
   ]
  },
  {
   "cell_type": "code",
   "execution_count": 6,
   "metadata": {},
   "outputs": [
    {
     "name": "stdout",
     "output_type": "stream",
     "text": [
      "[0, 2, 4, 6, 8]\n"
     ]
    }
   ],
   "source": [
    "# map(function, iterables)\n",
    "def sqr(a,b):\n",
    "    return a*b\n",
    "# your code goes here3\n",
    "print(list(map(sqr, [ i for i in range(5)], (2,2,2,2,2) )))"
   ]
  },
  {
   "cell_type": "code",
   "execution_count": 9,
   "metadata": {},
   "outputs": [
    {
     "name": "stdout",
     "output_type": "stream",
     "text": [
      "[0, 2, 4, 6, 8]\n"
     ]
    }
   ],
   "source": [
    "def sqrt(a,b):\n",
    "    return a*b\n",
    "\n",
    "x = map(sqrt,[1,2,3,4],[1,2,3,4])\n",
    "print(list(map(sqrt, [i for i in range(5)], [2,2,2,2,2])))"
   ]
  },
  {
   "cell_type": "code",
   "execution_count": 10,
   "metadata": {},
   "outputs": [
    {
     "name": "stdout",
     "output_type": "stream",
     "text": [
      "[0, 2, 4, 6, 8]\n"
     ]
    }
   ],
   "source": [
    "def sqrt(a,b):\n",
    "    return a*b\n",
    "\n",
    "x = map(sqrt,[1,2,3,4],[1,2,3,4])\n",
    "print(list(map(sqrt, (i for i in range(5)), (2,2,2,2,2))))"
   ]
  },
  {
   "cell_type": "code",
   "execution_count": 11,
   "metadata": {},
   "outputs": [
    {
     "name": "stdout",
     "output_type": "stream",
     "text": [
      "<function abc.<locals>.<lambda> at 0x0000021704A050D8>\n",
      "6\n"
     ]
    }
   ],
   "source": [
    "def abc(x):\n",
    "    return lambda y:x+y\n",
    "\n",
    "t=abc(1)\n",
    "print(t)\n",
    "print(t(5))"
   ]
  },
  {
   "cell_type": "code",
   "execution_count": 13,
   "metadata": {},
   "outputs": [
    {
     "name": "stdout",
     "output_type": "stream",
     "text": [
      "6\n"
     ]
    }
   ],
   "source": [
    "a = lambda x,y,z: 1*x+2*y+3*z\n",
    "t=a(1,1,1)\n",
    "print(t)"
   ]
  },
  {
   "cell_type": "code",
   "execution_count": 15,
   "metadata": {},
   "outputs": [
    {
     "name": "stdout",
     "output_type": "stream",
     "text": [
      "14\n"
     ]
    }
   ],
   "source": [
    "s=a(1,2,3)\n",
    "print(s)"
   ]
  },
  {
   "cell_type": "code",
   "execution_count": 18,
   "metadata": {},
   "outputs": [
    {
     "name": "stdout",
     "output_type": "stream",
     "text": [
      "[6, 12, 18, 24]\n"
     ]
    }
   ],
   "source": [
    "l1 = [1,2,3,4]\n",
    "a = map(lambda x,y,z: 1*x+2*y+3*z,l1,l1,l1)\n",
    "print(list(a))"
   ]
  },
  {
   "cell_type": "code",
   "execution_count": 27,
   "metadata": {},
   "outputs": [
    {
     "name": "stdout",
     "output_type": "stream",
     "text": [
      "19\n"
     ]
    }
   ],
   "source": [
    "from functools import reduce \n",
    "l1 = [1,2,3,4]\n",
    "a = reduce(lambda x,y: 1*x+2*y,l1)\n",
    "print(a)"
   ]
  },
  {
   "cell_type": "markdown",
   "metadata": {},
   "source": [
    "Question 2:  \n",
    " \n",
    "Recreate your own Python NB for “Classes and Objects” from the pdf provided namely “Classes&Objects.pdf” "
   ]
  },
  {
   "cell_type": "code",
   "execution_count": 37,
   "metadata": {},
   "outputs": [
    {
     "name": "stdout",
     "output_type": "stream",
     "text": [
      "Name:  Himanshu\n",
      "Age:  28\n",
      "City:  Nagpur\n",
      "Student.__doc__: None\n",
      "Student.__name__: Student\n",
      "Student.__module__: __main__\n",
      "Student.__bases__: (<class 'object'>,)\n",
      "Student.__dict__: {'__module__': '__main__', 'stdcount': 1, '__init__': <function Student.__init__ at 0x0000021705841CA8>, 'displaynoofstudent': <function Student.displaynoofstudent at 0x0000021705841E58>, 'dispalystddetail': <function Student.dispalystddetail at 0x0000021705841558>, '__dict__': <attribute '__dict__' of 'Student' objects>, '__weakref__': <attribute '__weakref__' of 'Student' objects>, '__doc__': None}\n",
      "No of Student:  1\n"
     ]
    }
   ],
   "source": [
    "class Student:\n",
    "    stdcount=0\n",
    "    \n",
    "    def __init__(self,stdname,stdage,stdcity):\n",
    "        Student.stdcount +=1\n",
    "        self.name = stdname\n",
    "        self.age = stdage\n",
    "        self.city= stdcity\n",
    "        \n",
    "        self.no = Student.stdcount\n",
    "        \n",
    "    \n",
    "    def displaynoofstudent(self):\n",
    "        print(\"No of Student: \", Student.stdcount)\n",
    "        \n",
    "    def dispalystddetail(self):\n",
    "        print(\"Name: \", self.name)\n",
    "        print(\"Age: \", self.age)\n",
    "        print(\"City: \",self.city)\n",
    "        print (\"Student.__doc__:\", Student.__doc__)\n",
    "        print (\"Student.__name__:\", Student.__name__)\n",
    "        print (\"Student.__module__:\", Student.__module__)\n",
    "        print (\"Student.__bases__:\", Student.__bases__)\n",
    "        print (\"Student.__dict__:\", Student.__dict__)\n",
    "        \n",
    "c1 = Student(\"Himanshu\",28,\"Nagpur\")\n",
    "c1.dispalystddetail()\n",
    "c1.displaynoofstudent()\n",
    "    "
   ]
  },
  {
   "cell_type": "code",
   "execution_count": null,
   "metadata": {},
   "outputs": [],
   "source": []
  }
 ],
 "metadata": {
  "kernelspec": {
   "display_name": "Python 3",
   "language": "python",
   "name": "python3"
  },
  "language_info": {
   "codemirror_mode": {
    "name": "ipython",
    "version": 3
   },
   "file_extension": ".py",
   "mimetype": "text/x-python",
   "name": "python",
   "nbconvert_exporter": "python",
   "pygments_lexer": "ipython3",
   "version": "3.7.6"
  }
 },
 "nbformat": 4,
 "nbformat_minor": 4
}
