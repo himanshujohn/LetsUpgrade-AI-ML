{
 "cells": [
  {
   "cell_type": "code",
   "execution_count": 1,
   "metadata": {},
   "outputs": [],
   "source": [
    "import numpy as np\n",
    "import pandas as pd\n",
    "import sklearn"
   ]
  },
  {
   "cell_type": "code",
   "execution_count": 2,
   "metadata": {},
   "outputs": [],
   "source": [
    "data = pd.read_csv(\"Materials/Dataset/User_Data - Arindam Dev.csv\")"
   ]
  },
  {
   "cell_type": "code",
   "execution_count": 6,
   "metadata": {},
   "outputs": [],
   "source": [
    "from sklearn.model_selection import train_test_split\n",
    "from sklearn.metrics import accuracy_score\n",
    "from sklearn.ensemble import RandomForestClassifier\n",
    "from sklearn.tree import DecisionTreeClassifier"
   ]
  },
  {
   "cell_type": "code",
   "execution_count": 7,
   "metadata": {},
   "outputs": [
    {
     "data": {
      "text/html": [
       "<div>\n",
       "<style scoped>\n",
       "    .dataframe tbody tr th:only-of-type {\n",
       "        vertical-align: middle;\n",
       "    }\n",
       "\n",
       "    .dataframe tbody tr th {\n",
       "        vertical-align: top;\n",
       "    }\n",
       "\n",
       "    .dataframe thead th {\n",
       "        text-align: right;\n",
       "    }\n",
       "</style>\n",
       "<table border=\"1\" class=\"dataframe\">\n",
       "  <thead>\n",
       "    <tr style=\"text-align: right;\">\n",
       "      <th></th>\n",
       "      <th>User ID</th>\n",
       "      <th>Gender</th>\n",
       "      <th>Age</th>\n",
       "      <th>EstimatedSalary</th>\n",
       "      <th>Purchased</th>\n",
       "    </tr>\n",
       "  </thead>\n",
       "  <tbody>\n",
       "    <tr>\n",
       "      <th>0</th>\n",
       "      <td>15624510</td>\n",
       "      <td>Male</td>\n",
       "      <td>19</td>\n",
       "      <td>19000</td>\n",
       "      <td>0</td>\n",
       "    </tr>\n",
       "    <tr>\n",
       "      <th>1</th>\n",
       "      <td>15810944</td>\n",
       "      <td>Male</td>\n",
       "      <td>35</td>\n",
       "      <td>20000</td>\n",
       "      <td>0</td>\n",
       "    </tr>\n",
       "    <tr>\n",
       "      <th>2</th>\n",
       "      <td>15668575</td>\n",
       "      <td>Female</td>\n",
       "      <td>26</td>\n",
       "      <td>43000</td>\n",
       "      <td>0</td>\n",
       "    </tr>\n",
       "    <tr>\n",
       "      <th>3</th>\n",
       "      <td>15603246</td>\n",
       "      <td>Female</td>\n",
       "      <td>27</td>\n",
       "      <td>57000</td>\n",
       "      <td>0</td>\n",
       "    </tr>\n",
       "    <tr>\n",
       "      <th>4</th>\n",
       "      <td>15804002</td>\n",
       "      <td>Male</td>\n",
       "      <td>19</td>\n",
       "      <td>76000</td>\n",
       "      <td>0</td>\n",
       "    </tr>\n",
       "  </tbody>\n",
       "</table>\n",
       "</div>"
      ],
      "text/plain": [
       "    User ID  Gender  Age  EstimatedSalary  Purchased\n",
       "0  15624510    Male   19            19000          0\n",
       "1  15810944    Male   35            20000          0\n",
       "2  15668575  Female   26            43000          0\n",
       "3  15603246  Female   27            57000          0\n",
       "4  15804002    Male   19            76000          0"
      ]
     },
     "execution_count": 7,
     "metadata": {},
     "output_type": "execute_result"
    }
   ],
   "source": [
    "data.head()"
   ]
  },
  {
   "cell_type": "code",
   "execution_count": 8,
   "metadata": {},
   "outputs": [],
   "source": [
    "import matplotlib.pyplot as plt"
   ]
  },
  {
   "cell_type": "code",
   "execution_count": 10,
   "metadata": {},
   "outputs": [],
   "source": [
    "x_train,x_test,y_train,y_test = train_test_split(data.drop(columns=(['Gender'])),data['Gender'],test_size = 0.2,random_state = 1)"
   ]
  },
  {
   "cell_type": "code",
   "execution_count": 30,
   "metadata": {},
   "outputs": [
    {
     "data": {
      "text/plain": [
       "0.525"
      ]
     },
     "execution_count": 30,
     "metadata": {},
     "output_type": "execute_result"
    }
   ],
   "source": [
    "dtm= DecisionTreeClassifier(max_depth=4,random_state=1)\n",
    "dtm.fit(x_train,y_train)\n",
    "y_pred = dtm.predict(x_test)\n",
    "accuracy_score(y_test,y_pred)"
   ]
  },
  {
   "cell_type": "code",
   "execution_count": 22,
   "metadata": {},
   "outputs": [
    {
     "data": {
      "text/plain": [
       "0.525"
      ]
     },
     "execution_count": 22,
     "metadata": {},
     "output_type": "execute_result"
    }
   ],
   "source": [
    "rfm = RandomForestClassifier(max_leaf_nodes=10,random_state=1)\n",
    "rfm.fit(x_train,y_train)\n",
    "y_pred = rfm.predict(x_test)\n",
    "accuracy_score(y_test,y_pred)"
   ]
  },
  {
   "cell_type": "code",
   "execution_count": 16,
   "metadata": {},
   "outputs": [],
   "source": [
    "from sklearn import tree"
   ]
  },
  {
   "cell_type": "code",
   "execution_count": 17,
   "metadata": {},
   "outputs": [
    {
     "data": {
      "text/plain": [
       "[Text(167.4, 205.35999999999999, 'X[1] <= 49.5\\ngini = 0.5\\nsamples = 320\\nvalue = [160, 160]'),\n",
       " Text(125.55000000000001, 181.2, 'X[2] <= 125500.0\\ngini = 0.499\\nsamples = 283\\nvalue = [134, 149]'),\n",
       " Text(83.7, 157.04, 'X[0] <= 15573689.0\\ngini = 0.496\\nsamples = 264\\nvalue = [120, 144]'),\n",
       " Text(41.85, 132.88, 'gini = 0.0\\nsamples = 4\\nvalue = [4, 0]'),\n",
       " Text(125.55000000000001, 132.88, 'X[0] <= 15593527.5\\ngini = 0.494\\nsamples = 260\\nvalue = [116, 144]'),\n",
       " Text(83.7, 108.72, 'gini = 0.346\\nsamples = 27\\nvalue = [6, 21]'),\n",
       " Text(167.4, 108.72, 'X[0] <= 15599956.0\\ngini = 0.498\\nsamples = 233\\nvalue = [110, 123]'),\n",
       " Text(125.55000000000001, 84.56, 'gini = 0.32\\nsamples = 10\\nvalue = [8, 2]'),\n",
       " Text(209.25, 84.56, 'X[0] <= 15747816.0\\ngini = 0.496\\nsamples = 223\\nvalue = [102, 121]'),\n",
       " Text(167.4, 60.400000000000006, 'X[0] <= 15673493.0\\ngini = 0.485\\nsamples = 152\\nvalue = [63, 89]'),\n",
       " Text(83.7, 36.24000000000001, 'X[2] <= 73500.0\\ngini = 0.5\\nsamples = 69\\nvalue = [35, 34]'),\n",
       " Text(41.85, 12.079999999999984, 'gini = 0.48\\nsamples = 50\\nvalue = [30, 20]'),\n",
       " Text(125.55000000000001, 12.079999999999984, 'gini = 0.388\\nsamples = 19\\nvalue = [5, 14]'),\n",
       " Text(251.10000000000002, 36.24000000000001, 'X[0] <= 15689969.5\\ngini = 0.447\\nsamples = 83\\nvalue = [28, 55]'),\n",
       " Text(209.25, 12.079999999999984, 'gini = 0.198\\nsamples = 18\\nvalue = [2, 16]'),\n",
       " Text(292.95, 12.079999999999984, 'gini = 0.48\\nsamples = 65\\nvalue = [26, 39]'),\n",
       " Text(251.10000000000002, 60.400000000000006, 'gini = 0.495\\nsamples = 71\\nvalue = [39, 32]'),\n",
       " Text(167.4, 157.04, 'gini = 0.388\\nsamples = 19\\nvalue = [14, 5]'),\n",
       " Text(209.25, 181.2, 'gini = 0.418\\nsamples = 37\\nvalue = [26, 11]')]"
      ]
     },
     "execution_count": 17,
     "metadata": {},
     "output_type": "execute_result"
    },
    {
     "data": {
      "image/png": "[encoded data removed]",
      "text/plain": [
       "<Figure size 432x288 with 1 Axes>"
      ]
     },
     "metadata": {
      "needs_background": "light"
     },
     "output_type": "display_data"
    }
   ],
   "source": [
    "tree.plot_tree(dtm)"
   ]
  },
  {
   "cell_type": "code",
   "execution_count": 18,
   "metadata": {},
   "outputs": [],
   "source": [
    "from sklearn import ensemble"
   ]
  },
  {
   "cell_type": "code",
   "execution_count": 19,
   "metadata": {},
   "outputs": [
    {
     "data": {
      "text/plain": [
       "0.5125"
      ]
     },
     "execution_count": 19,
     "metadata": {},
     "output_type": "execute_result"
    }
   ],
   "source": [
    "rfm = RandomForestClassifier(n_estimators=50,random_state=1)\n",
    "rfm.fit(x_train,y_train)\n",
    "y_pred = rfm.predict(x_test)\n",
    "accuracy_score(y_test,y_pred)"
   ]
  }
 ],
 "metadata": {
  "kernelspec": {
   "display_name": "Python 3",
   "language": "python",
   "name": "python3"
  },
  "language_info": {
   "codemirror_mode": {
    "name": "ipython",
    "version": 3
   },
   "file_extension": ".py",
   "mimetype": "text/x-python",
   "name": "python",
   "nbconvert_exporter": "python",
   "pygments_lexer": "ipython3",
   "version": "3.8.5"
  }
 },
 "nbformat": 4,
 "nbformat_minor": 4
}
