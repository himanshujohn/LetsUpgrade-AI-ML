{
 "cells": [
  {
   "cell_type": "markdown",
   "metadata": {},
   "source": [
    "Assuming that we have some email addresses in the \"username@companyname.com\" format, please\n",
    "write a program to print the company name of a given email address. Both user names and company\n",
    "names are composed of letters only.\n",
    "Input Format:\n",
    "The first line of the input contains an email address.\n",
    "Output Format:\n",
    "Print the company name in a single line.\n",
    "Example;\n",
    "Input:\n",
    "john@google.com\n",
    "Output:\n",
    "google."
   ]
  },
  {
   "cell_type": "code",
   "execution_count": null,
   "metadata": {},
   "outputs": [],
   "source": [
    "s='john@google.com'\n",
    "x = s.find('@')\n",
    "y = s.find('com')\n",
    "print(s[x+1:y])"
   ]
  },
  {
   "cell_type": "markdown",
   "metadata": {},
   "source": [
    "Write a program that accepts a comma-separated sequence of words as input and prints the words in a\n",
    "comma-separated sequence after sorting them alphabetically.\n",
    "Input Format:\n",
    "The first line of input contains words separated by the comma.\n",
    "Output Format:\n",
    "Print the sorted words separated by the comma.\n",
    "Example:\n",
    "Input:\n",
    "without,hello,bag,world\n",
    "Output:\n",
    "bag,hello,without,world"
   ]
  },
  {
   "cell_type": "code",
   "execution_count": 3,
   "metadata": {},
   "outputs": [
    {
     "name": "stdout",
     "output_type": "stream",
     "text": [
      "Enter comma seprated sequence of words as input: without,hello,bag,world\n",
      "bag,hello,without,world\n"
     ]
    }
   ],
   "source": [
    "s = input('Enter comma seprated sequence of words as input: ')\n",
    "words = [ word for word in s.split(',')]\n",
    "words = \",\".join(sorted(list(words)))\n",
    "print(words)"
   ]
  },
  {
   "cell_type": "markdown",
   "metadata": {},
   "source": [
    "Question 4:\n",
    "Given a list of n-1 numbers ranging from 1 to n, your task is to find the missing number. There are no\n",
    "duplicates.\n",
    "Input Format:\n",
    "The first line contains n-1 numbers with each number separated by a space.\n",
    "Output Format:\n",
    "Print the missing number\n",
    "Example:\n",
    "Input:\n",
    "1 2 4 6 3 7 8\n",
    "Output:\n",
    "5\n",
    "Explanation:\n",
    "In the above list of numbers 5 is missing and hence 5 is the input"
   ]
  },
  {
   "cell_type": "code",
   "execution_count": 4,
   "metadata": {},
   "outputs": [
    {
     "name": "stdout",
     "output_type": "stream",
     "text": [
      "5.0\n"
     ]
    }
   ],
   "source": [
    "A = [1, 2, 4 ,6 ,3 ,7, 8]\n",
    "n = len(A)\n",
    "total = (n + 1)*(n + 2)/2\n",
    "sum_of_A = sum(A)\n",
    "print(total - sum_of_A)"
   ]
  },
  {
   "cell_type": "markdown",
   "metadata": {},
   "source": [
    "Question 5:\n",
    "With a given list L, write a program to print this list L after removing all duplicate values with original order\n",
    "reserved.\n",
    "Example:\n",
    "If the input list is\n",
    "12 24 35 24 88 120 155 88 120 155\n",
    "Then the output should be\n",
    "12 24 35 88 120 155\n",
    "Explanation:\n",
    "Third, the seventh and ninth element of the list L has been removed because it was already present.\n",
    "Input Format:\n",
    "In one line take the elements of the list L with each element separated by a space.\n",
    "Output Format:\n",
    "Print the elements of the modified list in one line with each element separated by a space.\n",
    "Example:\n",
    "Input:\n",
    "12 24 35 24\n",
    "Output:\n",
    "12 24 35"
   ]
  },
  {
   "cell_type": "code",
   "execution_count": 5,
   "metadata": {},
   "outputs": [
    {
     "name": "stdout",
     "output_type": "stream",
     "text": [
      "[12, 24, 35, 88, 120, 155]\n"
     ]
    }
   ],
   "source": [
    "dupno= [12, 24, 35, 24, 88, 120, 155, 88, 120, 155]\n",
    "l1 = []\n",
    "for no in dupno:\n",
    "    if no not in l1:\n",
    "        l1.append(no)\n",
    "        \n",
    "print(l1)"
   ]
  },
  {
   "cell_type": "code",
   "execution_count": 21,
   "metadata": {},
   "outputs": [
    {
     "name": "stdout",
     "output_type": "stream",
     "text": [
      "Enter No: 12 24 35 24 88 120 155 88 120 155\n",
      "['12', '24', '35', '88', '120', '155'] <class 'str'>\n",
      "]  [ ' 1 2 ' ,   ' 2 4 ' ,   ' 3 5 ' ,   ' 8 8 ' ,   ' 1 2 0 ' ,   ' 1 5 5 ' ]\n"
     ]
    }
   ],
   "source": [
    "dupno= input(\"Enter No: \")\n",
    "s = [no for no in dupno.split(' ') ]\n",
    "# print(type(s))\n",
    "for no in s:\n",
    "    if no not in l1:\n",
    "        l1.append(no)\n",
    "t = str(l1)\n",
    "print(t,type(t))\n",
    "\n",
    "for s1 in t:\n",
    "    sng = sng + ' ' +s1\n",
    "    \n",
    "print(sng)\n",
    "\n",
    "#need help"
   ]
  }
 ],
 "metadata": {
  "kernelspec": {
   "display_name": "Python 3",
   "language": "python",
   "name": "python3"
  },
  "language_info": {
   "codemirror_mode": {
    "name": "ipython",
    "version": 3
   },
   "file_extension": ".py",
   "mimetype": "text/x-python",
   "name": "python",
   "nbconvert_exporter": "python",
   "pygments_lexer": "ipython3",
   "version": "3.8.3"
  }
 },
 "nbformat": 4,
 "nbformat_minor": 4
}
