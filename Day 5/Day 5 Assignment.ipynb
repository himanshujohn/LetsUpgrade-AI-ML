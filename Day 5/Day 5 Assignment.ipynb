{
 "cells": [
  {
   "cell_type": "markdown",
   "metadata": {},
   "source": [
    "Python program to find the first 20 non-even prime natural numbers."
   ]
  },
  {
   "cell_type": "markdown",
   "metadata": {},
   "source": [
    "Unable to perform"
   ]
  },
  {
   "cell_type": "code",
   "execution_count": 19,
   "metadata": {},
   "outputs": [
    {
     "name": "stdout",
     "output_type": "stream",
     "text": [
      "[1, 1, 1, 3, 1, 3, 5, 1, 3, 5, 7, 1, 3, 5, 7, 9, 11, 1, 3, 5, 7, 9, 11, 13, 15, 17]\n"
     ]
    }
   ],
   "source": [
    "c=1\n",
    "l1 = []\n",
    "while c<21:\n",
    "    for i in range(1,c+1):\n",
    "#         print(i)\n",
    "        for j in range(1,i+1):\n",
    "#             print(j)\n",
    "            if(i%2 != 0):\n",
    "                if (i%j) == 0:\n",
    "#                     print(i,\" is a non-even prime number\")\n",
    "                    c=c+1\n",
    "                    l1.append(i)\n",
    "                    break\n",
    "print(l1)"
   ]
  },
  {
   "cell_type": "markdown",
   "metadata": {},
   "source": [
    "Write a Python program to implement 15 functions of string."
   ]
  },
  {
   "cell_type": "code",
   "execution_count": 26,
   "metadata": {},
   "outputs": [
    {
     "name": "stdout",
     "output_type": "stream",
     "text": [
      "China : The String is alphanumeric.\n",
      "\n",
      "1974 : The String contains only digits.\n",
      "\n",
      "Australia : String contains only alphabetic characters.\n",
      "\n",
      "    : String contains only whitespace characters.\n",
      "\n",
      "JAPAN : All letters in the string are uppercase.\n",
      "\n",
      "India 1974 : Convert String in lowercase: india 1974 \n",
      "\n",
      "India 1974 : Convert String in uppercase: INDIA 1974 \n",
      "\n",
      "\n",
      "Left Strip: India 1974\n",
      "\n",
      "Left Strip with Character A: merica 1974\n",
      "\n",
      "Right Strip: America 1974     \n",
      "\n",
      "Right Strip with Character a: Americ\n",
      "\n",
      "Strip from both side : America 1974\n",
      "\n",
      "Strip with Character A: merica Russia Japan China\n",
      "Strip with Character a: America Russia Japan Chin\n"
     ]
    }
   ],
   "source": [
    "user_string = \"China\"\n",
    "if user_string.isalnum():\n",
    "    print(user_string, ': The String is alphanumeric.\\n')\n",
    "\n",
    "user_string = \"1974\"\n",
    "if user_string.isdigit():\n",
    "    print(user_string, ': The String contains only digits.\\n')\n",
    "\n",
    "user_string = \"Australia\"\n",
    "if user_string.isalpha():\n",
    "    print(user_string, ': String contains only alphabetic characters.\\n')\n",
    "\n",
    "user_string = \"   \"\n",
    "if user_string.isspace():\n",
    "    print(user_string, ': String contains only whitespace characters.\\n')\n",
    "\n",
    "user_string = \"JAPAN\"\n",
    "if user_string.isupper():\n",
    "    print(user_string, ': All letters in the string are uppercase.\\n')\n",
    "\n",
    "user_string = \"Australia 1974\"\n",
    "if user_string.islower():\n",
    "    print(user_string, ': All letters in the string are lowercase.\\n')\n",
    "\n",
    "user_string = \"India 1974\"\n",
    "toLower = user_string.lower()\n",
    "print(user_string, ': Convert String in lowercase:', toLower, '\\n')\n",
    "\n",
    "toUpper = user_string.upper()\n",
    "print(user_string, ': Convert String in uppercase:', toUpper, '\\n')\n",
    "\n",
    "# lstrip() Returns a copy of the string with all leading whitespace\n",
    "# characters removed, that appear at the beginning of the string.\n",
    "user_string = \"   India 1974\"\n",
    "print('\\nLeft Strip:', user_string.lstrip())\n",
    "\n",
    "# lstrip(char) Returns a copy of the string with all instances of\n",
    "# char that appear at the beginning of the string removed.\n",
    "user_string = \"America 1974\"\n",
    "print('\\nLeft Strip with Character A:', user_string.lstrip('A'))\n",
    "\n",
    "# rstrip() Returns a copy of the string with all leading whitespace\n",
    "# characters removed, that appear at the end of the string.\n",
    "user_string = \"America 1974     \"\n",
    "print('\\nRight Strip:', user_string.rstrip('A'))\n",
    "\n",
    "# rstrip(char) Returns a copy of the string with all instances of\n",
    "# char that appear at the end of the string.\n",
    "user_string = \"America\"\n",
    "print('\\nRight Strip with Character a:', user_string.rstrip('a'))\n",
    "\n",
    "# strip() returns a copy of the string with all leading\n",
    "# and trailing whitespace characters removed.\n",
    "user_string = \"   America 1974    \"\n",
    "print('\\nStrip from both side :', user_string.strip())\n",
    "\n",
    "# strip(char) Returns a copy of the string with all instances of\n",
    "# char that appear at the beginning and the end of the string removed.\n",
    "user_string = \"America Russia Japan China\"\n",
    "print('\\nStrip with Character A:', user_string.strip('A'))\n",
    "print('Strip with Character a:', user_string.strip('a'))"
   ]
  },
  {
   "cell_type": "markdown",
   "metadata": {},
   "source": [
    "Write a Python program to check if the given string is a Palindrome or Anagram or None of them. Display\n",
    "the message accordingly to the user."
   ]
  },
  {
   "cell_type": "code",
   "execution_count": 3,
   "metadata": {},
   "outputs": [
    {
     "name": "stdout",
     "output_type": "stream",
     "text": [
      "addi  is not pallindrome\n"
     ]
    }
   ],
   "source": [
    "x = \"addi\"\n",
    "w = \"\"\n",
    "for i in x:\n",
    "    w = i + w\n",
    "if (x == w):\n",
    "    print(x,\" is pallindrome\")\n",
    "else:\n",
    "    print(x,\" is not pallindrome\")"
   ]
  },
  {
   "cell_type": "code",
   "execution_count": 4,
   "metadata": {},
   "outputs": [
    {
     "name": "stdout",
     "output_type": "stream",
     "text": [
      "madaM\n"
     ]
    }
   ],
   "source": [
    "x= 'Madam'\n",
    "print(x[::-1])"
   ]
  },
  {
   "cell_type": "markdown",
   "metadata": {},
   "source": [
    "Write a Python's user-defined function that removes all the additional characters from the string and\n",
    "convert it finally to lower case using built-in lower(). eg: If the string is \"Dr. Darshan Ingle @AIML Trainer\",\n",
    "then the output be \"drdarshaningleaimltrainer\"."
   ]
  },
  {
   "cell_type": "code",
   "execution_count": 11,
   "metadata": {},
   "outputs": [
    {
     "name": "stdout",
     "output_type": "stream",
     "text": [
      "drdarshaningleaimltrainer\n"
     ]
    }
   ],
   "source": [
    "extra_chars = [';', ':', '@', '!', '.', \"*\", ' '] \n",
    "s = \"Dr. Darshan Ingle @AIML Trainer\"\n",
    "for i in extra_chars:\n",
    "    s = s.replace(i,'')\n",
    "s= s.lower()\n",
    "print(s)"
   ]
  },
  {
   "cell_type": "code",
   "execution_count": 13,
   "metadata": {},
   "outputs": [
    {
     "name": "stdout",
     "output_type": "stream",
     "text": [
      "drdarshaningleaimltrainer\n"
     ]
    }
   ],
   "source": [
    "extra_chars = [';', ':', '@', '!', '.', \"*\", ' '] \n",
    "s = \"Dr. Darshan Ingle @AIML Trainer\"\n",
    "s = ''.join(i for i in s if not i in extra_chars)\n",
    "s= s.lower()\n",
    "print(s)"
   ]
  }
 ],
 "metadata": {
  "kernelspec": {
   "display_name": "Python 3",
   "language": "python",
   "name": "python3"
  },
  "language_info": {
   "codemirror_mode": {
    "name": "ipython",
    "version": 3
   },
   "file_extension": ".py",
   "mimetype": "text/x-python",
   "name": "python",
   "nbconvert_exporter": "python",
   "pygments_lexer": "ipython3",
   "version": "3.8.3"
  }
 },
 "nbformat": 4,
 "nbformat_minor": 4
}
