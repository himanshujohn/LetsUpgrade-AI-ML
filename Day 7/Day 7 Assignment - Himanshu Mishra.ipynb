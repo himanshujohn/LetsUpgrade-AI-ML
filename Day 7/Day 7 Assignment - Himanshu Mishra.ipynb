{
 "cells": [
  {
   "cell_type": "markdown",
   "metadata": {},
   "source": [
    "Question 1: \n",
    " \n",
    "Write a program to copy the contents of one file to another using a for loop. (Don’t use built-in copy function) "
   ]
  },
  {
   "cell_type": "code",
   "execution_count": 1,
   "metadata": {},
   "outputs": [],
   "source": [
    "f1 = open('file1.txt','a')\n",
    "f1.writelines(\"Hello Line 1\")\n",
    "f1.writelines(\"\\nHello Line 2\")\n",
    "f1.writelines(\"\\nHello Line 3\")\n",
    "f1.writelines(\"\\nHello Line 4\")\n",
    "f1.close()"
   ]
  },
  {
   "cell_type": "code",
   "execution_count": 2,
   "metadata": {},
   "outputs": [
    {
     "name": "stdout",
     "output_type": "stream",
     "text": [
      "Hello Line 1\n",
      "\n",
      "Hello Line 2\n",
      "\n",
      "Hello Line 3\n",
      "\n",
      "Hello Line 4\n"
     ]
    }
   ],
   "source": [
    "f1 = open('file1.txt','r')\n",
    "f2= open('file2.txt','a')\n",
    "for i in f1.readlines():\n",
    "    f2.write(i)\n",
    "f2.close()\n",
    "f1.close()"
   ]
  },
  {
   "cell_type": "code",
   "execution_count": 3,
   "metadata": {},
   "outputs": [
    {
     "name": "stdout",
     "output_type": "stream",
     "text": [
      "['Hello Line 1\\n', 'Hello Line 2\\n', 'Hello Line 3\\n', 'Hello Line 4']\n"
     ]
    }
   ],
   "source": [
    "f2 = open('file2.txt','r')\n",
    "print(f2.readlines())\n",
    "f2.close()"
   ]
  },
  {
   "cell_type": "markdown",
   "metadata": {},
   "source": [
    "Write a Python program to find maximum and minimum values in the dictionary. Do not use built-in min and max functions. "
   ]
  },
  {
   "cell_type": "code",
   "execution_count": 11,
   "metadata": {},
   "outputs": [
    {
     "name": "stdout",
     "output_type": "stream",
     "text": [
      "d\n",
      "a\n"
     ]
    }
   ],
   "source": [
    "dict1 = {'a':1,'b':2,'c':3,'d':4}\n",
    "\n",
    "maxd1 = max(dict1,key = lambda z: dict1[z])\n",
    "print(maxd1)\n",
    "mind1 = min(dict1,key = lambda z: dict1[z])\n",
    "print(mind1)"
   ]
  },
  {
   "cell_type": "code",
   "execution_count": 12,
   "metadata": {},
   "outputs": [
    {
     "name": "stdout",
     "output_type": "stream",
     "text": [
      "d\n"
     ]
    }
   ],
   "source": [
    "Keymax = max(dict1, key=dict1.get) \n",
    "print(Keymax) "
   ]
  }
 ],
 "metadata": {
  "kernelspec": {
   "display_name": "Python 3",
   "language": "python",
   "name": "python3"
  },
  "language_info": {
   "codemirror_mode": {
    "name": "ipython",
    "version": 3
   },
   "file_extension": ".py",
   "mimetype": "text/x-python",
   "name": "python",
   "nbconvert_exporter": "python",
   "pygments_lexer": "ipython3",
   "version": "3.7.6"
  }
 },
 "nbformat": 4,
 "nbformat_minor": 4
}
