{
 "cells": [
  {
   "cell_type": "markdown",
   "metadata": {},
   "source": [
    "Question 1 :\n",
    "Research on whether addition, subtraction, multiplication, division, floor division, and modulo operations\n",
    "be performed on complex numbers. Based on your study, implement a Python program to demonstrate\n",
    "these operations."
   ]
  },
  {
   "cell_type": "code",
   "execution_count": 5,
   "metadata": {},
   "outputs": [
    {
     "name": "stdout",
     "output_type": "stream",
     "text": [
      "addition:  (7+9j)\n",
      "Substraction:  (1+1j)\n",
      "multiplication:  (-8+31j)\n",
      "division:  (1.28-0.04j)\n"
     ]
    }
   ],
   "source": [
    "a= 4+5j\n",
    "b= 3+4j\n",
    "print(\"addition: \",a+b)\n",
    "print(\"Substraction: \",a-b)\n",
    "print(\"multiplication: \",a*b)\n",
    "print(\"division: \",a/b)\n"
   ]
  },
  {
   "cell_type": "code",
   "execution_count": 6,
   "metadata": {},
   "outputs": [
    {
     "ename": "TypeError",
     "evalue": "can't take floor of complex number.",
     "output_type": "error",
     "traceback": [
      "\u001b[1;31m---------------------------------------------------------------------------\u001b[0m",
      "\u001b[1;31mTypeError\u001b[0m                                 Traceback (most recent call last)",
      "\u001b[1;32m<ipython-input-6-a2e2de637633>\u001b[0m in \u001b[0;36m<module>\u001b[1;34m\u001b[0m\n\u001b[1;32m----> 1\u001b[1;33m \u001b[0mprint\u001b[0m\u001b[1;33m(\u001b[0m\u001b[1;34m\"floor division: \"\u001b[0m\u001b[1;33m,\u001b[0m\u001b[0ma\u001b[0m\u001b[1;33m//\u001b[0m\u001b[0mb\u001b[0m\u001b[1;33m)\u001b[0m\u001b[1;33m\u001b[0m\u001b[1;33m\u001b[0m\u001b[0m\n\u001b[0m",
      "\u001b[1;31mTypeError\u001b[0m: can't take floor of complex number."
     ]
    }
   ],
   "source": [
    "print(\"floor division: \",a//b)"
   ]
  },
  {
   "cell_type": "code",
   "execution_count": 7,
   "metadata": {},
   "outputs": [
    {
     "ename": "TypeError",
     "evalue": "can't mod complex numbers.",
     "output_type": "error",
     "traceback": [
      "\u001b[1;31m---------------------------------------------------------------------------\u001b[0m",
      "\u001b[1;31mTypeError\u001b[0m                                 Traceback (most recent call last)",
      "\u001b[1;32m<ipython-input-7-7cdca84e5a0f>\u001b[0m in \u001b[0;36m<module>\u001b[1;34m\u001b[0m\n\u001b[1;32m----> 1\u001b[1;33m \u001b[0mprint\u001b[0m\u001b[1;33m(\u001b[0m\u001b[1;34m\"modulo: \"\u001b[0m\u001b[1;33m,\u001b[0m\u001b[0ma\u001b[0m\u001b[1;33m%\u001b[0m\u001b[0mb\u001b[0m\u001b[1;33m)\u001b[0m\u001b[1;33m\u001b[0m\u001b[1;33m\u001b[0m\u001b[0m\n\u001b[0m",
      "\u001b[1;31mTypeError\u001b[0m: can't mod complex numbers."
     ]
    }
   ],
   "source": [
    "print(\"modulo: \",a%b)"
   ]
  },
  {
   "cell_type": "markdown",
   "metadata": {},
   "source": [
    "Question 2 :\n",
    "Research on range() functions and its parameters. Create a markdown cell and write in your own words\n",
    "(no copy-paste from google please) what you understand about it. Implement a small program of your\n",
    "choice on the same."
   ]
  },
  {
   "cell_type": "code",
   "execution_count": 16,
   "metadata": {},
   "outputs": [
    {
     "name": "stdout",
     "output_type": "stream",
     "text": [
      "1 2 3 4 5 6 7 8 9 10 \n",
      "---------------\n",
      "\n",
      "10 8 6 4 2 \n",
      "---------------\n",
      "\n",
      "1 * 2 * 3 * 4 * 5 * "
     ]
    }
   ],
   "source": [
    "i=0\n",
    "for i in range(1,11):\n",
    "    print(i, end = ' ')\n",
    "print(\"\\n---------------\\n\")\n",
    "for i in range(10,0,-2):\n",
    "    print(i, end = ' ')\n",
    "print(\"\\n---------------\\n\")\n",
    "list1 = [1,2,3,4,5,6]\n",
    "for i in range(1,len(list1)):\n",
    "    print(i, end =' * ')"
   ]
  },
  {
   "cell_type": "markdown",
   "metadata": {},
   "source": [
    "Question 3:\n",
    "Consider two numbers. Perform their subtraction and if the result of subtraction is greater than 25, print\n",
    "their multiplication result else print their division result."
   ]
  },
  {
   "cell_type": "code",
   "execution_count": 9,
   "metadata": {},
   "outputs": [
    {
     "name": "stdout",
     "output_type": "stream",
     "text": [
      "1053\n",
      "Multiplcation:  53998\n"
     ]
    }
   ],
   "source": [
    "c = 49\n",
    "d= 1102\n",
    "e = d-c\n",
    "print(e)\n",
    "if(e>25):\n",
    "    print(\"Multiplcation: \" ,c*d)\n",
    "else:\n",
    "    print(\"Division: \",d/e)"
   ]
  },
  {
   "cell_type": "markdown",
   "metadata": {},
   "source": [
    "Question 4:\n",
    "Consider a list of 10 elements of integer values. If the number in the list is divisible by 2, print the result as\n",
    "\"square of that number minus 2\"."
   ]
  },
  {
   "cell_type": "code",
   "execution_count": 13,
   "metadata": {},
   "outputs": [
    {
     "name": "stdout",
     "output_type": "stream",
     "text": [
      "Not a prime number:  1\n",
      "square of that number minus 2:  2  -  2\n",
      "Not a prime number:  3\n",
      "square of that number minus 2:  4  -  14\n",
      "Not a prime number:  5\n",
      "square of that number minus 2:  6  -  34\n",
      "Not a prime number:  7\n",
      "square of that number minus 2:  8  -  62\n",
      "Not a prime number:  9\n",
      "square of that number minus 2:  10  -  98\n"
     ]
    }
   ],
   "source": [
    "f=[1,2,3,4,5,6,7,8,9,10]\n",
    "for i in f:\n",
    "    if(i%2 ==0):\n",
    "        print(\"square of that number minus 2: \", i, \" - \", ((i**2)-2))\n",
    "    else:\n",
    "        print(\"Not a prime number: \",i)"
   ]
  },
  {
   "cell_type": "markdown",
   "metadata": {},
   "source": [
    "Question 5:\n",
    "Consider a list of 10 elements. Print all the elements in the list which are greater than 7 when that number\n",
    "is divided 2."
   ]
  },
  {
   "cell_type": "code",
   "execution_count": 14,
   "metadata": {},
   "outputs": [
    {
     "name": "stdout",
     "output_type": "stream",
     "text": [
      "Element not greater then 7  1\n",
      "Element not greater then 7  2\n",
      "Element not greater then 7  3\n",
      "Element not greater then 7  4\n",
      "Element not greater then 7  5\n",
      "Element not greater then 7  6\n",
      "Element not greater then 7  7\n",
      "Element greater then 7 is :  8\n",
      "Element greater then 7 is :  9\n",
      "Element greater then 7 is :  10\n"
     ]
    }
   ],
   "source": [
    "f=[1,2,3,4,5,6,7,8,9,10]\n",
    "for i in f:\n",
    "    if(i>7):\n",
    "        print(\"Element greater then 7 is : \", i)\n",
    "    else:\n",
    "        print(\"Element not greater then 7 \",i)"
   ]
  }
 ],
 "metadata": {
  "kernelspec": {
   "display_name": "Python 3",
   "language": "python",
   "name": "python3"
  },
  "language_info": {
   "codemirror_mode": {
    "name": "ipython",
    "version": 3
   },
   "file_extension": ".py",
   "mimetype": "text/x-python",
   "name": "python",
   "nbconvert_exporter": "python",
   "pygments_lexer": "ipython3",
   "version": "3.8.3"
  }
 },
 "nbformat": 4,
 "nbformat_minor": 4
}
